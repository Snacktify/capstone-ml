{
  "nbformat": 4,
  "nbformat_minor": 0,
  "metadata": {
    "colab": {
      "provenance": []
    },
    "kernelspec": {
      "name": "python3",
      "display_name": "Python 3"
    },
    "language_info": {
      "name": "python"
    }
  },
  "cells": [
    {
      "cell_type": "code",
      "source": [
        "from google.colab import drive\n",
        "drive.mount('/content/drive')"
      ],
      "metadata": {
        "colab": {
          "base_uri": "https://localhost:8080/"
        },
        "id": "m0igmB4bEp6l",
        "outputId": "3313ac15-c1fd-4d4e-f19c-1ac0fb273f83"
      },
      "execution_count": 1,
      "outputs": [
        {
          "output_type": "stream",
          "name": "stdout",
          "text": [
            "Mounted at /content/drive\n"
          ]
        }
      ]
    },
    {
      "cell_type": "markdown",
      "source": [
        "# Import"
      ],
      "metadata": {
        "id": "fQatSH3qGyOU"
      }
    },
    {
      "cell_type": "code",
      "execution_count": 40,
      "metadata": {
        "id": "QD8NvygdBVGF"
      },
      "outputs": [],
      "source": [
        "import os\n",
        "import cv2\n",
        "import csv\n",
        "import random\n",
        "import string\n",
        "import shutil\n",
        "import zipfile\n",
        "import numpy as np\n",
        "import pandas as pd\n",
        "import tensorflow as tf\n",
        "import matplotlib.pyplot as plt\n",
        "from shutil import copyfile, move\n",
        "from tensorflow.keras.preprocessing.image import ImageDataGenerator, array_to_img"
      ]
    },
    {
      "cell_type": "markdown",
      "source": [
        "# Util Function"
      ],
      "metadata": {
        "id": "sOp1a59QdxUR"
      }
    },
    {
      "cell_type": "code",
      "source": [
        "def split_data(SOURCE_DIR, TRAINING_DIR, VALIDATION_DIR, SPLIT_SIZE):\n",
        "  files = os.listdir(SOURCE_DIR)\n",
        "  quantity = len(files)\n",
        "  rand_files = random.sample(files, quantity)\n",
        "  train_size = quantity * SPLIT_SIZE\n",
        "  train_count = 0\n",
        "  zero_len_count = 0\n",
        "  for i, filename in enumerate(rand_files):\n",
        "    if os.path.getsize(os.path.join(SOURCE_DIR, filename)) <= 0:\n",
        "      print(\"{} is zero length, so ignoring.\".format(filename))\n",
        "      zero_len_count = zero_len_count + 1\n",
        "      train_size = (quantity-zero_len_count) * SPLIT_SIZE\n",
        "      continue\n",
        "    if train_count < train_size:\n",
        "      copyfile(os.path.join(SOURCE_DIR, filename), os.path.join(TRAINING_DIR, filename))\n",
        "      train_count = train_count + 1\n",
        "    else:\n",
        "      copyfile(os.path.join(SOURCE_DIR, filename), os.path.join(VALIDATION_DIR, filename))"
      ],
      "metadata": {
        "id": "kluKcsZBd0AH"
      },
      "execution_count": 3,
      "outputs": []
    },
    {
      "cell_type": "code",
      "source": [
        "def split_val(VALIDATION_DIR, TEST_DIR):\n",
        "  files = os.listdir(VALIDATION_DIR)\n",
        "  quantity = len(files)\n",
        "  rand_files = random.sample(files, quantity)\n",
        "  train_size = quantity * 0.5\n",
        "  train_count = 0\n",
        "  zero_len_count = 0\n",
        "  for i, filename in enumerate(rand_files):\n",
        "    if os.path.getsize(os.path.join(VALIDATION_DIR, filename)) <= 0:\n",
        "      print(\"{} is zero length, so ignoring.\".format(filename))\n",
        "      zero_len_count = zero_len_count + 1\n",
        "      train_size = (quantity-zero_len_count) * 0.5\n",
        "      continue\n",
        "    if train_count < train_size:\n",
        "      move(os.path.join(VALIDATION_DIR, filename), os.path.join(TEST_DIR, filename))\n",
        "      train_count = train_count + 1\n",
        "    else:\n",
        "      break"
      ],
      "metadata": {
        "id": "zGfQiiHqfzUP"
      },
      "execution_count": 35,
      "outputs": []
    },
    {
      "cell_type": "markdown",
      "source": [
        "# Extract Data"
      ],
      "metadata": {
        "id": "SZXbXpLUIKdS"
      }
    },
    {
      "cell_type": "code",
      "source": [
        "df = pd.read_csv(r\"/content/drive/MyDrive/Snacktify/Reviews.csv\")"
      ],
      "metadata": {
        "id": "LgpXBQlDIMst"
      },
      "execution_count": null,
      "outputs": []
    },
    {
      "cell_type": "code",
      "source": [
        "df.info()"
      ],
      "metadata": {
        "colab": {
          "base_uri": "https://localhost:8080/"
        },
        "id": "NwpHveqFMeyu",
        "outputId": "19d57a3a-0e76-41b3-cf59-62dcf518e035"
      },
      "execution_count": null,
      "outputs": [
        {
          "output_type": "stream",
          "name": "stdout",
          "text": [
            "<class 'pandas.core.frame.DataFrame'>\n",
            "RangeIndex: 568454 entries, 0 to 568453\n",
            "Data columns (total 10 columns):\n",
            " #   Column                  Non-Null Count   Dtype \n",
            "---  ------                  --------------   ----- \n",
            " 0   Id                      568454 non-null  int64 \n",
            " 1   ProductId               568454 non-null  object\n",
            " 2   UserId                  568454 non-null  object\n",
            " 3   ProfileName             568438 non-null  object\n",
            " 4   HelpfulnessNumerator    568454 non-null  int64 \n",
            " 5   HelpfulnessDenominator  568454 non-null  int64 \n",
            " 6   Score                   568454 non-null  int64 \n",
            " 7   Time                    568454 non-null  int64 \n",
            " 8   Summary                 568427 non-null  object\n",
            " 9   Text                    568454 non-null  object\n",
            "dtypes: int64(5), object(5)\n",
            "memory usage: 43.4+ MB\n"
          ]
        }
      ]
    },
    {
      "cell_type": "code",
      "source": [
        "df.head()"
      ],
      "metadata": {
        "colab": {
          "base_uri": "https://localhost:8080/",
          "height": 206
        },
        "id": "srGiFCa1MjV8",
        "outputId": "8818db90-e58f-4ef5-97dd-5ea2e90ba601"
      },
      "execution_count": null,
      "outputs": [
        {
          "output_type": "execute_result",
          "data": {
            "text/plain": [
              "   Id   ProductId          UserId                      ProfileName  \\\n",
              "0   1  B001E4KFG0  A3SGXH7AUHU8GW                       delmartian   \n",
              "1   2  B00813GRG4  A1D87F6ZCVE5NK                           dll pa   \n",
              "2   3  B000LQOCH0   ABXLMWJIXXAIN  Natalia Corres \"Natalia Corres\"   \n",
              "3   4  B000UA0QIQ  A395BORC6FGVXV                             Karl   \n",
              "4   5  B006K2ZZ7K  A1UQRSCLF8GW1T    Michael D. Bigham \"M. Wassir\"   \n",
              "\n",
              "   HelpfulnessNumerator  HelpfulnessDenominator  Score        Time  \\\n",
              "0                     1                       1      5  1303862400   \n",
              "1                     0                       0      1  1346976000   \n",
              "2                     1                       1      4  1219017600   \n",
              "3                     3                       3      2  1307923200   \n",
              "4                     0                       0      5  1350777600   \n",
              "\n",
              "                 Summary                                               Text  \n",
              "0  Good Quality Dog Food  I have bought several of the Vitality canned d...  \n",
              "1      Not as Advertised  Product arrived labeled as Jumbo Salted Peanut...  \n",
              "2  \"Delight\" says it all  This is a confection that has been around a fe...  \n",
              "3         Cough Medicine  If you are looking for the secret ingredient i...  \n",
              "4            Great taffy  Great taffy at a great price.  There was a wid...  "
            ],
            "text/html": [
              "\n",
              "  <div id=\"df-f7be192c-b48e-48a7-a491-ee561e41505a\">\n",
              "    <div class=\"colab-df-container\">\n",
              "      <div>\n",
              "<style scoped>\n",
              "    .dataframe tbody tr th:only-of-type {\n",
              "        vertical-align: middle;\n",
              "    }\n",
              "\n",
              "    .dataframe tbody tr th {\n",
              "        vertical-align: top;\n",
              "    }\n",
              "\n",
              "    .dataframe thead th {\n",
              "        text-align: right;\n",
              "    }\n",
              "</style>\n",
              "<table border=\"1\" class=\"dataframe\">\n",
              "  <thead>\n",
              "    <tr style=\"text-align: right;\">\n",
              "      <th></th>\n",
              "      <th>Id</th>\n",
              "      <th>ProductId</th>\n",
              "      <th>UserId</th>\n",
              "      <th>ProfileName</th>\n",
              "      <th>HelpfulnessNumerator</th>\n",
              "      <th>HelpfulnessDenominator</th>\n",
              "      <th>Score</th>\n",
              "      <th>Time</th>\n",
              "      <th>Summary</th>\n",
              "      <th>Text</th>\n",
              "    </tr>\n",
              "  </thead>\n",
              "  <tbody>\n",
              "    <tr>\n",
              "      <th>0</th>\n",
              "      <td>1</td>\n",
              "      <td>B001E4KFG0</td>\n",
              "      <td>A3SGXH7AUHU8GW</td>\n",
              "      <td>delmartian</td>\n",
              "      <td>1</td>\n",
              "      <td>1</td>\n",
              "      <td>5</td>\n",
              "      <td>1303862400</td>\n",
              "      <td>Good Quality Dog Food</td>\n",
              "      <td>I have bought several of the Vitality canned d...</td>\n",
              "    </tr>\n",
              "    <tr>\n",
              "      <th>1</th>\n",
              "      <td>2</td>\n",
              "      <td>B00813GRG4</td>\n",
              "      <td>A1D87F6ZCVE5NK</td>\n",
              "      <td>dll pa</td>\n",
              "      <td>0</td>\n",
              "      <td>0</td>\n",
              "      <td>1</td>\n",
              "      <td>1346976000</td>\n",
              "      <td>Not as Advertised</td>\n",
              "      <td>Product arrived labeled as Jumbo Salted Peanut...</td>\n",
              "    </tr>\n",
              "    <tr>\n",
              "      <th>2</th>\n",
              "      <td>3</td>\n",
              "      <td>B000LQOCH0</td>\n",
              "      <td>ABXLMWJIXXAIN</td>\n",
              "      <td>Natalia Corres \"Natalia Corres\"</td>\n",
              "      <td>1</td>\n",
              "      <td>1</td>\n",
              "      <td>4</td>\n",
              "      <td>1219017600</td>\n",
              "      <td>\"Delight\" says it all</td>\n",
              "      <td>This is a confection that has been around a fe...</td>\n",
              "    </tr>\n",
              "    <tr>\n",
              "      <th>3</th>\n",
              "      <td>4</td>\n",
              "      <td>B000UA0QIQ</td>\n",
              "      <td>A395BORC6FGVXV</td>\n",
              "      <td>Karl</td>\n",
              "      <td>3</td>\n",
              "      <td>3</td>\n",
              "      <td>2</td>\n",
              "      <td>1307923200</td>\n",
              "      <td>Cough Medicine</td>\n",
              "      <td>If you are looking for the secret ingredient i...</td>\n",
              "    </tr>\n",
              "    <tr>\n",
              "      <th>4</th>\n",
              "      <td>5</td>\n",
              "      <td>B006K2ZZ7K</td>\n",
              "      <td>A1UQRSCLF8GW1T</td>\n",
              "      <td>Michael D. Bigham \"M. Wassir\"</td>\n",
              "      <td>0</td>\n",
              "      <td>0</td>\n",
              "      <td>5</td>\n",
              "      <td>1350777600</td>\n",
              "      <td>Great taffy</td>\n",
              "      <td>Great taffy at a great price.  There was a wid...</td>\n",
              "    </tr>\n",
              "  </tbody>\n",
              "</table>\n",
              "</div>\n",
              "      <button class=\"colab-df-convert\" onclick=\"convertToInteractive('df-f7be192c-b48e-48a7-a491-ee561e41505a')\"\n",
              "              title=\"Convert this dataframe to an interactive table.\"\n",
              "              style=\"display:none;\">\n",
              "        \n",
              "  <svg xmlns=\"http://www.w3.org/2000/svg\" height=\"24px\"viewBox=\"0 0 24 24\"\n",
              "       width=\"24px\">\n",
              "    <path d=\"M0 0h24v24H0V0z\" fill=\"none\"/>\n",
              "    <path d=\"M18.56 5.44l.94 2.06.94-2.06 2.06-.94-2.06-.94-.94-2.06-.94 2.06-2.06.94zm-11 1L8.5 8.5l.94-2.06 2.06-.94-2.06-.94L8.5 2.5l-.94 2.06-2.06.94zm10 10l.94 2.06.94-2.06 2.06-.94-2.06-.94-.94-2.06-.94 2.06-2.06.94z\"/><path d=\"M17.41 7.96l-1.37-1.37c-.4-.4-.92-.59-1.43-.59-.52 0-1.04.2-1.43.59L10.3 9.45l-7.72 7.72c-.78.78-.78 2.05 0 2.83L4 21.41c.39.39.9.59 1.41.59.51 0 1.02-.2 1.41-.59l7.78-7.78 2.81-2.81c.8-.78.8-2.07 0-2.86zM5.41 20L4 18.59l7.72-7.72 1.47 1.35L5.41 20z\"/>\n",
              "  </svg>\n",
              "      </button>\n",
              "      \n",
              "  <style>\n",
              "    .colab-df-container {\n",
              "      display:flex;\n",
              "      flex-wrap:wrap;\n",
              "      gap: 12px;\n",
              "    }\n",
              "\n",
              "    .colab-df-convert {\n",
              "      background-color: #E8F0FE;\n",
              "      border: none;\n",
              "      border-radius: 50%;\n",
              "      cursor: pointer;\n",
              "      display: none;\n",
              "      fill: #1967D2;\n",
              "      height: 32px;\n",
              "      padding: 0 0 0 0;\n",
              "      width: 32px;\n",
              "    }\n",
              "\n",
              "    .colab-df-convert:hover {\n",
              "      background-color: #E2EBFA;\n",
              "      box-shadow: 0px 1px 2px rgba(60, 64, 67, 0.3), 0px 1px 3px 1px rgba(60, 64, 67, 0.15);\n",
              "      fill: #174EA6;\n",
              "    }\n",
              "\n",
              "    [theme=dark] .colab-df-convert {\n",
              "      background-color: #3B4455;\n",
              "      fill: #D2E3FC;\n",
              "    }\n",
              "\n",
              "    [theme=dark] .colab-df-convert:hover {\n",
              "      background-color: #434B5C;\n",
              "      box-shadow: 0px 1px 3px 1px rgba(0, 0, 0, 0.15);\n",
              "      filter: drop-shadow(0px 1px 2px rgba(0, 0, 0, 0.3));\n",
              "      fill: #FFFFFF;\n",
              "    }\n",
              "  </style>\n",
              "\n",
              "      <script>\n",
              "        const buttonEl =\n",
              "          document.querySelector('#df-f7be192c-b48e-48a7-a491-ee561e41505a button.colab-df-convert');\n",
              "        buttonEl.style.display =\n",
              "          google.colab.kernel.accessAllowed ? 'block' : 'none';\n",
              "\n",
              "        async function convertToInteractive(key) {\n",
              "          const element = document.querySelector('#df-f7be192c-b48e-48a7-a491-ee561e41505a');\n",
              "          const dataTable =\n",
              "            await google.colab.kernel.invokeFunction('convertToInteractive',\n",
              "                                                     [key], {});\n",
              "          if (!dataTable) return;\n",
              "\n",
              "          const docLinkHtml = 'Like what you see? Visit the ' +\n",
              "            '<a target=\"_blank\" href=https://colab.research.google.com/notebooks/data_table.ipynb>data table notebook</a>'\n",
              "            + ' to learn more about interactive tables.';\n",
              "          element.innerHTML = '';\n",
              "          dataTable['output_type'] = 'display_data';\n",
              "          await google.colab.output.renderOutput(dataTable, element);\n",
              "          const docLink = document.createElement('div');\n",
              "          docLink.innerHTML = docLinkHtml;\n",
              "          element.appendChild(docLink);\n",
              "        }\n",
              "      </script>\n",
              "    </div>\n",
              "  </div>\n",
              "  "
            ]
          },
          "metadata": {},
          "execution_count": 6
        }
      ]
    },
    {
      "cell_type": "code",
      "source": [
        "local_zip = '/content/drive/MyDrive/Snacktify/dataset.zip'\n",
        "zip_ref = zipfile.ZipFile(local_zip, 'r')\n",
        "zip_ref.extractall('./data/')\n",
        "zip_ref.close()"
      ],
      "metadata": {
        "id": "9NOrnZpHWIz0"
      },
      "execution_count": 5,
      "outputs": []
    },
    {
      "cell_type": "markdown",
      "source": [
        "# Exploratory Data Analysis"
      ],
      "metadata": {
        "id": "AoSqYEYBW5Rv"
      }
    },
    {
      "cell_type": "code",
      "source": [
        "dataset_dir = './data/dataset'\n",
        "train_dir = './data/train'\n",
        "validation_dir = './data/validation'\n",
        "test_dir = './data/test'"
      ],
      "metadata": {
        "id": "emsRv2E7XBfU"
      },
      "execution_count": 6,
      "outputs": []
    },
    {
      "cell_type": "code",
      "source": [
        "for cls in os.listdir(dataset_dir):\n",
        "  print(\"Total {} images: {}\".format(cls, len(os.listdir(os.path.join(dataset_dir, cls)))))"
      ],
      "metadata": {
        "colab": {
          "base_uri": "https://localhost:8080/"
        },
        "id": "U_ugHPMBXpn2",
        "outputId": "6f44b393-eae9-4541-dbeb-e692d44516c4"
      },
      "execution_count": null,
      "outputs": [
        {
          "output_type": "stream",
          "name": "stdout",
          "text": [
            "Total serabi solo images: 300\n",
            "Total putu ayu images: 300\n",
            "Total lanting images: 300\n",
            "Total wajik images: 300\n",
            "Total lumpia images: 300\n",
            "Total grontol images: 300\n"
          ]
        }
      ]
    },
    {
      "cell_type": "markdown",
      "source": [
        "# Data Preprocessing"
      ],
      "metadata": {
        "id": "FzPfeQehY3KV"
      }
    },
    {
      "cell_type": "code",
      "source": [
        "shutil.rmtree('./data/train')\n",
        "shutil.rmtree('./data/validation')\n",
        "shutil.rmtree('./data/test')"
      ],
      "metadata": {
        "id": "HZHrew8jfIvS"
      },
      "execution_count": 41,
      "outputs": []
    },
    {
      "cell_type": "code",
      "source": [
        "for cls in os.listdir(dataset_dir):\n",
        "  os.makedirs(os.path.join(train_dir, cls))\n",
        "  os.makedirs(os.path.join(validation_dir, cls))\n",
        "  os.makedirs(os.path.join(test_dir, cls))"
      ],
      "metadata": {
        "id": "ECRihFMGY8Cn"
      },
      "execution_count": 42,
      "outputs": []
    },
    {
      "cell_type": "code",
      "source": [
        "for cls in os.listdir(dataset_dir):\n",
        "  split_data(os.path.join(dataset_dir, cls), os.path.join(train_dir, cls), os.path.join(validation_dir, cls), 0.7)\n",
        "  split_val(os.path.join(validation_dir, cls), os.path.join(test_dir, cls))"
      ],
      "metadata": {
        "id": "mmiJLYySbKpZ"
      },
      "execution_count": 43,
      "outputs": []
    },
    {
      "cell_type": "code",
      "source": [
        "train_datagen = ImageDataGenerator(rescale=1.0/255,\n",
        "                                   rotation_range=40,\n",
        "                                   width_shift_range=0.2,\n",
        "                                   height_shift_range=0.2,\n",
        "                                   shear_range=0.2,\n",
        "                                   zoom_range=0.2,\n",
        "                                   horizontal_flip=True,\n",
        "                                   fill_mode='nearest')\n",
        "train_generator = train_datagen.flow_from_directory(directory=train_dir,\n",
        "                                                    batch_size=8,\n",
        "                                                    class_mode='sparse',\n",
        "                                                    target_size=(150, 150))\n",
        "\n",
        "validation_datagen = ImageDataGenerator(rescale=1.0/255.)\n",
        "validation_generator = validation_datagen.flow_from_directory(directory=validation_dir,\n",
        "                                                              batch_size=8,\n",
        "                                                              class_mode='sparse',\n",
        "                                                              target_size=(150, 150))\n",
        "\n",
        "test_datagen = ImageDataGenerator(rescale=1.0/255.)\n",
        "test_generator = validation_datagen.flow_from_directory(directory=test_dir,\n",
        "                                                              batch_size=8,\n",
        "                                                              class_mode='sparse',\n",
        "                                                              target_size=(150, 150))"
      ],
      "metadata": {
        "colab": {
          "base_uri": "https://localhost:8080/"
        },
        "id": "sJmqwfEMgp8V",
        "outputId": "b1445ba0-66e3-4c1a-8a91-27629e8b87de"
      },
      "execution_count": 56,
      "outputs": [
        {
          "output_type": "stream",
          "name": "stdout",
          "text": [
            "Found 1260 images belonging to 6 classes.\n",
            "Found 270 images belonging to 6 classes.\n",
            "Found 270 images belonging to 6 classes.\n"
          ]
        }
      ]
    },
    {
      "cell_type": "markdown",
      "source": [
        "# Model Training"
      ],
      "metadata": {
        "id": "9CzReRMnibX2"
      }
    },
    {
      "cell_type": "code",
      "source": [
        "model = tf.keras.models.Sequential([ \n",
        "  tf.keras.layers.Conv2D(16, (3,3), activation='relu', input_shape=(150, 150, 3)),\n",
        "  tf.keras.layers.MaxPooling2D(2,2),\n",
        "  tf.keras.layers.Conv2D(32, (3,3), activation='relu'),\n",
        "  tf.keras.layers.MaxPooling2D(2,2),\n",
        "  tf.keras.layers.Conv2D(64, (3,3), activation='relu'),\n",
        "  tf.keras.layers.MaxPooling2D(2,2), \n",
        "  tf.keras.layers.Conv2D(64, (3,3), activation='relu'),\n",
        "  tf.keras.layers.MaxPooling2D(2,2), \n",
        "  tf.keras.layers.Flatten(),\n",
        "  tf.keras.layers.Dense(512, activation='relu'), \n",
        "  tf.keras.layers.Dense(6, activation='softmax')  \n",
        "])"
      ],
      "metadata": {
        "id": "0X2MdfBMiazy"
      },
      "execution_count": 112,
      "outputs": []
    },
    {
      "cell_type": "code",
      "source": [
        "model.compile(optimizer='adam',\n",
        "              loss='sparse_categorical_crossentropy',\n",
        "              metrics=['accuracy']) "
      ],
      "metadata": {
        "id": "nLtwGAh1iolY"
      },
      "execution_count": 113,
      "outputs": []
    },
    {
      "cell_type": "code",
      "source": [
        "model.summary()"
      ],
      "metadata": {
        "colab": {
          "base_uri": "https://localhost:8080/"
        },
        "id": "He00rYFti3Iw",
        "outputId": "f488e8b4-4a14-4942-9168-00cbdf63ed70"
      },
      "execution_count": 114,
      "outputs": [
        {
          "output_type": "stream",
          "name": "stdout",
          "text": [
            "Model: \"sequential_13\"\n",
            "_________________________________________________________________\n",
            " Layer (type)                Output Shape              Param #   \n",
            "=================================================================\n",
            " conv2d_36 (Conv2D)          (None, 148, 148, 16)      448       \n",
            "                                                                 \n",
            " max_pooling2d_36 (MaxPoolin  (None, 74, 74, 16)       0         \n",
            " g2D)                                                            \n",
            "                                                                 \n",
            " conv2d_37 (Conv2D)          (None, 72, 72, 32)        4640      \n",
            "                                                                 \n",
            " max_pooling2d_37 (MaxPoolin  (None, 36, 36, 32)       0         \n",
            " g2D)                                                            \n",
            "                                                                 \n",
            " conv2d_38 (Conv2D)          (None, 34, 34, 64)        18496     \n",
            "                                                                 \n",
            " max_pooling2d_38 (MaxPoolin  (None, 17, 17, 64)       0         \n",
            " g2D)                                                            \n",
            "                                                                 \n",
            " conv2d_39 (Conv2D)          (None, 15, 15, 64)        36928     \n",
            "                                                                 \n",
            " max_pooling2d_39 (MaxPoolin  (None, 7, 7, 64)         0         \n",
            " g2D)                                                            \n",
            "                                                                 \n",
            " flatten_13 (Flatten)        (None, 3136)              0         \n",
            "                                                                 \n",
            " dense_26 (Dense)            (None, 512)               1606144   \n",
            "                                                                 \n",
            " dense_27 (Dense)            (None, 6)                 3078      \n",
            "                                                                 \n",
            "=================================================================\n",
            "Total params: 1,669,734\n",
            "Trainable params: 1,669,734\n",
            "Non-trainable params: 0\n",
            "_________________________________________________________________\n"
          ]
        }
      ]
    },
    {
      "cell_type": "code",
      "source": [
        "early_stopping = tf.keras.callbacks.EarlyStopping(monitor='val_loss', mode='min', verbose=1, patience=5)"
      ],
      "metadata": {
        "id": "WXZ2Hl15Kcar"
      },
      "execution_count": 115,
      "outputs": []
    },
    {
      "cell_type": "code",
      "source": [
        "model.fit(train_generator, epochs=50, validation_data=validation_generator, callbacks=[early_stopping])"
      ],
      "metadata": {
        "colab": {
          "base_uri": "https://localhost:8080/"
        },
        "id": "1Vskd8rbi6__",
        "outputId": "a0cf9130-288b-4785-a68d-f031e3d3a2ae"
      },
      "execution_count": 116,
      "outputs": [
        {
          "output_type": "stream",
          "name": "stdout",
          "text": [
            "Epoch 1/50\n",
            "158/158 [==============================] - 47s 287ms/step - loss: 1.7202 - accuracy: 0.2381 - val_loss: 1.5699 - val_accuracy: 0.3407\n",
            "Epoch 2/50\n",
            "158/158 [==============================] - 45s 283ms/step - loss: 1.6027 - accuracy: 0.3262 - val_loss: 1.4914 - val_accuracy: 0.3852\n",
            "Epoch 3/50\n",
            "158/158 [==============================] - 45s 285ms/step - loss: 1.4164 - accuracy: 0.4016 - val_loss: 1.4518 - val_accuracy: 0.4037\n",
            "Epoch 4/50\n",
            "158/158 [==============================] - 45s 282ms/step - loss: 1.3317 - accuracy: 0.4643 - val_loss: 1.2929 - val_accuracy: 0.4852\n",
            "Epoch 5/50\n",
            "158/158 [==============================] - 45s 282ms/step - loss: 1.2364 - accuracy: 0.5183 - val_loss: 1.2417 - val_accuracy: 0.5074\n",
            "Epoch 6/50\n",
            "158/158 [==============================] - 45s 284ms/step - loss: 1.1867 - accuracy: 0.5516 - val_loss: 1.2659 - val_accuracy: 0.4889\n",
            "Epoch 7/50\n",
            "158/158 [==============================] - 44s 278ms/step - loss: 1.1487 - accuracy: 0.5635 - val_loss: 1.2446 - val_accuracy: 0.4704\n",
            "Epoch 8/50\n",
            "158/158 [==============================] - 44s 279ms/step - loss: 1.0661 - accuracy: 0.6071 - val_loss: 1.1274 - val_accuracy: 0.5481\n",
            "Epoch 9/50\n",
            "158/158 [==============================] - 45s 284ms/step - loss: 1.0670 - accuracy: 0.5960 - val_loss: 1.0926 - val_accuracy: 0.5889\n",
            "Epoch 10/50\n",
            "158/158 [==============================] - 45s 282ms/step - loss: 0.9896 - accuracy: 0.6278 - val_loss: 1.1420 - val_accuracy: 0.5741\n",
            "Epoch 11/50\n",
            "158/158 [==============================] - 44s 279ms/step - loss: 0.9676 - accuracy: 0.6381 - val_loss: 1.0404 - val_accuracy: 0.6222\n",
            "Epoch 12/50\n",
            "158/158 [==============================] - 44s 277ms/step - loss: 0.9410 - accuracy: 0.6651 - val_loss: 1.1657 - val_accuracy: 0.5519\n",
            "Epoch 13/50\n",
            "158/158 [==============================] - 46s 291ms/step - loss: 0.9239 - accuracy: 0.6452 - val_loss: 0.9637 - val_accuracy: 0.6556\n",
            "Epoch 14/50\n",
            "158/158 [==============================] - 45s 283ms/step - loss: 0.8991 - accuracy: 0.6556 - val_loss: 0.9763 - val_accuracy: 0.6630\n",
            "Epoch 15/50\n",
            "158/158 [==============================] - 44s 279ms/step - loss: 0.8328 - accuracy: 0.6913 - val_loss: 1.0057 - val_accuracy: 0.6037\n",
            "Epoch 16/50\n",
            "158/158 [==============================] - 45s 287ms/step - loss: 0.8242 - accuracy: 0.7024 - val_loss: 0.9010 - val_accuracy: 0.6926\n",
            "Epoch 17/50\n",
            "158/158 [==============================] - 45s 284ms/step - loss: 0.7670 - accuracy: 0.7119 - val_loss: 1.0836 - val_accuracy: 0.6111\n",
            "Epoch 18/50\n",
            "158/158 [==============================] - 45s 286ms/step - loss: 0.7887 - accuracy: 0.7127 - val_loss: 0.8703 - val_accuracy: 0.6815\n",
            "Epoch 19/50\n",
            "158/158 [==============================] - 45s 284ms/step - loss: 0.7710 - accuracy: 0.7127 - val_loss: 1.0036 - val_accuracy: 0.6481\n",
            "Epoch 20/50\n",
            "158/158 [==============================] - 45s 287ms/step - loss: 0.7287 - accuracy: 0.7381 - val_loss: 0.8045 - val_accuracy: 0.7074\n",
            "Epoch 21/50\n",
            "158/158 [==============================] - 47s 297ms/step - loss: 0.6994 - accuracy: 0.7349 - val_loss: 0.7906 - val_accuracy: 0.7111\n",
            "Epoch 22/50\n",
            "158/158 [==============================] - 45s 284ms/step - loss: 0.6803 - accuracy: 0.7492 - val_loss: 0.7460 - val_accuracy: 0.7370\n",
            "Epoch 23/50\n",
            "158/158 [==============================] - 44s 280ms/step - loss: 0.6639 - accuracy: 0.7714 - val_loss: 0.7459 - val_accuracy: 0.7259\n",
            "Epoch 24/50\n",
            "158/158 [==============================] - 44s 278ms/step - loss: 0.6351 - accuracy: 0.7651 - val_loss: 0.7239 - val_accuracy: 0.7593\n",
            "Epoch 25/50\n",
            "158/158 [==============================] - 46s 294ms/step - loss: 0.6221 - accuracy: 0.7849 - val_loss: 0.7358 - val_accuracy: 0.7556\n",
            "Epoch 26/50\n",
            "158/158 [==============================] - 44s 278ms/step - loss: 0.6103 - accuracy: 0.7833 - val_loss: 0.8662 - val_accuracy: 0.7185\n",
            "Epoch 27/50\n",
            "158/158 [==============================] - 47s 295ms/step - loss: 0.5715 - accuracy: 0.8032 - val_loss: 0.6484 - val_accuracy: 0.7926\n",
            "Epoch 28/50\n",
            "158/158 [==============================] - 45s 282ms/step - loss: 0.5754 - accuracy: 0.7833 - val_loss: 0.8230 - val_accuracy: 0.7037\n",
            "Epoch 29/50\n",
            "158/158 [==============================] - 45s 283ms/step - loss: 0.5556 - accuracy: 0.8048 - val_loss: 0.6598 - val_accuracy: 0.7778\n",
            "Epoch 30/50\n",
            "158/158 [==============================] - 45s 284ms/step - loss: 0.5697 - accuracy: 0.7944 - val_loss: 0.6758 - val_accuracy: 0.7815\n",
            "Epoch 31/50\n",
            "158/158 [==============================] - 45s 285ms/step - loss: 0.5368 - accuracy: 0.8048 - val_loss: 0.6464 - val_accuracy: 0.7926\n",
            "Epoch 32/50\n",
            "158/158 [==============================] - 45s 282ms/step - loss: 0.5144 - accuracy: 0.8198 - val_loss: 0.6888 - val_accuracy: 0.7667\n",
            "Epoch 33/50\n",
            "158/158 [==============================] - 48s 295ms/step - loss: 0.4685 - accuracy: 0.8310 - val_loss: 0.6453 - val_accuracy: 0.7852\n",
            "Epoch 34/50\n",
            "158/158 [==============================] - 46s 291ms/step - loss: 0.4956 - accuracy: 0.8222 - val_loss: 0.6947 - val_accuracy: 0.7630\n",
            "Epoch 35/50\n",
            "158/158 [==============================] - 44s 280ms/step - loss: 0.4863 - accuracy: 0.8333 - val_loss: 0.6631 - val_accuracy: 0.7704\n",
            "Epoch 36/50\n",
            "158/158 [==============================] - 45s 282ms/step - loss: 0.4835 - accuracy: 0.8325 - val_loss: 0.5958 - val_accuracy: 0.7852\n",
            "Epoch 37/50\n",
            "158/158 [==============================] - 44s 280ms/step - loss: 0.4788 - accuracy: 0.8444 - val_loss: 0.5367 - val_accuracy: 0.8222\n",
            "Epoch 38/50\n",
            "158/158 [==============================] - 46s 291ms/step - loss: 0.4352 - accuracy: 0.8437 - val_loss: 0.5513 - val_accuracy: 0.8111\n",
            "Epoch 39/50\n",
            "158/158 [==============================] - 44s 281ms/step - loss: 0.4254 - accuracy: 0.8452 - val_loss: 0.5735 - val_accuracy: 0.8111\n",
            "Epoch 40/50\n",
            "158/158 [==============================] - 44s 280ms/step - loss: 0.4217 - accuracy: 0.8571 - val_loss: 0.6984 - val_accuracy: 0.7667\n",
            "Epoch 41/50\n",
            "158/158 [==============================] - 44s 279ms/step - loss: 0.4400 - accuracy: 0.8413 - val_loss: 0.7243 - val_accuracy: 0.7778\n",
            "Epoch 42/50\n",
            "158/158 [==============================] - 46s 293ms/step - loss: 0.4398 - accuracy: 0.8373 - val_loss: 0.6007 - val_accuracy: 0.8185\n",
            "Epoch 42: early stopping\n"
          ]
        },
        {
          "output_type": "execute_result",
          "data": {
            "text/plain": [
              "<keras.callbacks.History at 0x7fb6110eb310>"
            ]
          },
          "metadata": {},
          "execution_count": 116
        }
      ]
    },
    {
      "cell_type": "code",
      "source": [
        "loss, acc = model.evaluate(test_generator)\n",
        "acc"
      ],
      "metadata": {
        "colab": {
          "base_uri": "https://localhost:8080/"
        },
        "id": "SuC8n4HFJOW5",
        "outputId": "24c7366f-f8ca-4e51-e238-73c737b4c32f"
      },
      "execution_count": 117,
      "outputs": [
        {
          "output_type": "stream",
          "name": "stdout",
          "text": [
            "34/34 [==============================] - 2s 66ms/step - loss: 0.4775 - accuracy: 0.8519\n"
          ]
        },
        {
          "output_type": "execute_result",
          "data": {
            "text/plain": [
              "0.8518518805503845"
            ]
          },
          "metadata": {},
          "execution_count": 117
        }
      ]
    },
    {
      "cell_type": "markdown",
      "source": [
        "# Deploy Model"
      ],
      "metadata": {
        "id": "pMcME2NtJQHy"
      }
    },
    {
      "cell_type": "code",
      "source": [
        "labels = ['grontol', 'lanting', 'lumpia', 'putu ayu', 'serabi solo', 'wajik']\n",
        "\n",
        "test_img = cv2.imread(\"/content/drive/MyDrive/Snacktify/test.jpg\")\n",
        "test_img = cv2.resize(test_img, (150, 150))\n",
        "test_img = (np.expand_dims(test_img, 0))\n",
        "print(test_img.shape)"
      ],
      "metadata": {
        "colab": {
          "base_uri": "https://localhost:8080/"
        },
        "id": "cVKC05QZ7mNX",
        "outputId": "924de8be-0152-4f37-bb4b-e5b5c438614b"
      },
      "execution_count": 132,
      "outputs": [
        {
          "output_type": "stream",
          "name": "stdout",
          "text": [
            "(1, 150, 150, 3)\n"
          ]
        }
      ]
    },
    {
      "cell_type": "code",
      "source": [
        "labels[tf.argmax(model.predict(test_img), 1)[0]]"
      ],
      "metadata": {
        "colab": {
          "base_uri": "https://localhost:8080/",
          "height": 54
        },
        "id": "R_y8l61r79QN",
        "outputId": "a46887da-6953-4c88-de60-2726d2e793c8"
      },
      "execution_count": 133,
      "outputs": [
        {
          "output_type": "stream",
          "name": "stdout",
          "text": [
            "1/1 [==============================] - 0s 34ms/step\n"
          ]
        },
        {
          "output_type": "execute_result",
          "data": {
            "text/plain": [
              "'putu ayu'"
            ],
            "application/vnd.google.colaboratory.intrinsic+json": {
              "type": "string"
            }
          },
          "metadata": {},
          "execution_count": 133
        }
      ]
    },
    {
      "cell_type": "code",
      "source": [
        "model_version = \"1\"\n",
        "model_save = \"snackscan\"\n",
        "model_path = os.path.join(model_save, model_version)\n",
        "tf.saved_model.save(model, model_path)"
      ],
      "metadata": {
        "colab": {
          "base_uri": "https://localhost:8080/"
        },
        "id": "va0YGAG7kIZ6",
        "outputId": "70d98c41-597f-4138-bd06-bacd18ff9863"
      },
      "execution_count": 134,
      "outputs": [
        {
          "output_type": "stream",
          "name": "stderr",
          "text": [
            "WARNING:absl:Found untraced functions such as _jit_compiled_convolution_op, _jit_compiled_convolution_op, _jit_compiled_convolution_op, _jit_compiled_convolution_op, _update_step_xla while saving (showing 5 of 5). These functions will not be directly callable after loading.\n"
          ]
        }
      ]
    },
    {
      "cell_type": "code",
      "source": [
        "shutil.make_archive('model', 'zip', '.', 'snackscan')"
      ],
      "metadata": {
        "colab": {
          "base_uri": "https://localhost:8080/",
          "height": 36
        },
        "id": "_B2F8LVYmc7W",
        "outputId": "04d92bc6-0c52-421d-cea0-327a2e11b8ef"
      },
      "execution_count": 136,
      "outputs": [
        {
          "output_type": "execute_result",
          "data": {
            "text/plain": [
              "'/content/model.zip'"
            ],
            "application/vnd.google.colaboratory.intrinsic+json": {
              "type": "string"
            }
          },
          "metadata": {},
          "execution_count": 136
        }
      ]
    }
  ]
}